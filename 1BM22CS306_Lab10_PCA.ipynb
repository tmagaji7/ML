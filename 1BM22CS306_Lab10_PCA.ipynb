{
  "nbformat": 4,
  "nbformat_minor": 0,
  "metadata": {
    "colab": {
      "provenance": []
    },
    "kernelspec": {
      "name": "python3",
      "display_name": "Python 3"
    },
    "language_info": {
      "name": "python"
    }
  },
  "cells": [
    {
      "cell_type": "code",
      "source": [
        "import pandas as pd\n",
        "from sklearn.preprocessing import LabelEncoder, OneHotEncoder\n",
        "df = pd.read_csv(\"heart.csv\")\n",
        "text_cols = df.select_dtypes(include=['object']).columns\n",
        "le = LabelEncoder()\n",
        "ohe = OneHotEncoder(handle_unknown='ignore', sparse_output=False)\n",
        "for col in text_cols:\n",
        "  df[col + '_le'] = le.fit_transform(df[col])\n",
        "  ohe_results = ohe.fit_transform(df[[col]])\n",
        "  df_ohe = pd.DataFrame(ohe_results, columns=[f\"{col}_{i}\" for i in range(ohe_results.shape[1])])\n",
        "  df = pd.concat([df, df_ohe], axis = 1)\n",
        "df = df.drop(text_cols, axis=1)\n",
        "print(df.head())\n",
        "\n"
      ],
      "metadata": {
        "colab": {
          "base_uri": "https://localhost:8080/"
        },
        "id": "W9IzFxWwLt0S",
        "outputId": "205ece50-bc6a-4bc7-bb71-02c79edc1c0b"
      },
      "execution_count": null,
      "outputs": [
        {
          "output_type": "stream",
          "name": "stdout",
          "text": [
            "   age  sex  cp  trestbps  chol  fbs  restecg  thalach  exang  oldpeak  slope  \\\n",
            "0   63    1   3       145   233    1        0      150      0      2.3      0   \n",
            "1   37    1   2       130   250    0        1      187      0      3.5      0   \n",
            "2   41    0   1       130   204    0        0      172      0      1.4      2   \n",
            "3   56    1   1       120   236    0        1      178      0      0.8      2   \n",
            "4   57    0   0       120   354    0        1      163      1      0.6      2   \n",
            "\n",
            "   ca  thal  target  \n",
            "0   0     1       1  \n",
            "1   0     2       1  \n",
            "2   0     2       1  \n",
            "3   0     2       1  \n",
            "4   0     2       1  \n"
          ]
        }
      ]
    },
    {
      "cell_type": "code",
      "source": [
        "\n",
        "\n",
        "import pandas as pd\n",
        "from sklearn.preprocessing import LabelEncoder, OneHotEncoder, MinMaxScaler\n",
        "\n",
        "df = pd.read_csv(\"heart.csv\")\n",
        "\n",
        "text_cols = df.select_dtypes(include=['object']).columns\n",
        "\n",
        "le = LabelEncoder()\n",
        "\n",
        "ohe = OneHotEncoder(handle_unknown='ignore', sparse_output=False)\n",
        "\n",
        "for col in text_cols:\n",
        "  df[col + '_le'] = le.fit_transform(df[col])\n",
        "  ohe_results = ohe.fit_transform(df[[col]])\n",
        "  df_ohe = pd.DataFrame(ohe_results, columns=[f\"{col}_{i}\" for i in range(ohe_results.shape[1])])\n",
        "  df = pd.concat([df, df_ohe], axis = 1)\n",
        "\n",
        "df = df.drop(text_cols, axis=1)\n",
        "\n",
        "# Apply scaling\n",
        "scaler = MinMaxScaler()\n",
        "scaled_values = scaler.fit_transform(df)\n",
        "df_scaled = pd.DataFrame(scaled_values, columns=df.columns)\n",
        "\n",
        "print(df_scaled.head())\n"
      ],
      "metadata": {
        "colab": {
          "base_uri": "https://localhost:8080/"
        },
        "id": "p5GH8JqHL8xx",
        "outputId": "5d89cdac-03d2-4752-b4b7-8271d9527e7e"
      },
      "execution_count": null,
      "outputs": [
        {
          "output_type": "stream",
          "name": "stdout",
          "text": [
            "        age  sex        cp  trestbps      chol  fbs  restecg   thalach  exang  \\\n",
            "0  0.708333  1.0  1.000000  0.481132  0.244292  1.0      0.0  0.603053    0.0   \n",
            "1  0.166667  1.0  0.666667  0.339623  0.283105  0.0      0.5  0.885496    0.0   \n",
            "2  0.250000  0.0  0.333333  0.339623  0.178082  0.0      0.0  0.770992    0.0   \n",
            "3  0.562500  1.0  0.333333  0.245283  0.251142  0.0      0.5  0.816794    0.0   \n",
            "4  0.583333  0.0  0.000000  0.245283  0.520548  0.0      0.5  0.702290    1.0   \n",
            "\n",
            "    oldpeak  slope   ca      thal  target  \n",
            "0  0.370968    0.0  0.0  0.333333     1.0  \n",
            "1  0.564516    0.0  0.0  0.666667     1.0  \n",
            "2  0.225806    1.0  0.0  0.666667     1.0  \n",
            "3  0.129032    1.0  0.0  0.666667     1.0  \n",
            "4  0.096774    1.0  0.0  0.666667     1.0  \n"
          ]
        }
      ]
    },
    {
      "cell_type": "code",
      "source": [
        "from sklearn.model_selection import train_test_split\n",
        "from sklearn.svm import SVC\n",
        "from sklearn.linear_model import LogisticRegression\n",
        "from sklearn.ensemble import RandomForestClassifier\n",
        "from sklearn.metrics import accuracy_score\n",
        "X = df_scaled.drop('target', axis=1)\n",
        "y = df_scaled['target']\n",
        "\n",
        "X_train, X_test, y_train, y_test = train_test_split(X, y, test_size=0.2, random_state=42)\n",
        "\n",
        "svm_model = SVC()\n",
        "lr_model = LogisticRegression()\n",
        "rf_model = RandomForestClassifier()\n",
        "\n",
        "models = {\n",
        "    'SVM': svm_model,\n",
        "    'Logistic Regression': lr_model,\n",
        "    'Random Forest': rf_model\n",
        "}\n",
        "\n",
        "results = {}\n",
        "for name, model in models.items():\n",
        "    model.fit(X_train, y_train)\n",
        "    y_pred = model.predict(X_test)\n",
        "    accuracy = accuracy_score(y_test, y_pred)\n",
        "    results[name] = accuracy\n",
        "\n",
        "best_model = max(results, key=results.get)\n",
        "best_accuracy = results[best_model]\n",
        "\n",
        "print(\"Model Accuracies:\")\n",
        "for name, accuracy in results.items():\n",
        "    print(f\"{name}: {accuracy}\")\n",
        "\n",
        "print(f\"\\nBest Model: {best_model} with accuracy: {best_accuracy}\")\n"
      ],
      "metadata": {
        "colab": {
          "base_uri": "https://localhost:8080/"
        },
        "id": "-mUxBuumMYr6",
        "outputId": "5e638545-066d-4da8-c5b5-1639e630d70c"
      },
      "execution_count": null,
      "outputs": [
        {
          "output_type": "stream",
          "name": "stdout",
          "text": [
            "Model Accuracies:\n",
            "SVM: 0.8360655737704918\n",
            "Logistic Regression: 0.8524590163934426\n",
            "Random Forest: 0.8524590163934426\n",
            "\n",
            "Best Model: Logistic Regression with accuracy: 0.8524590163934426\n"
          ]
        }
      ]
    },
    {
      "cell_type": "code",
      "source": [
        "\n",
        "\n",
        "from sklearn.decomposition import PCA\n",
        "\n",
        "pca = PCA(n_components=10)\n",
        "X_train_pca = pca.fit_transform(X_train)\n",
        "X_test_pca = pca.transform(X_test)\n",
        "\n",
        "results_pca = {}\n",
        "for name, model in models.items():\n",
        "    model.fit(X_train_pca, y_train)\n",
        "    y_pred_pca = model.predict(X_test_pca)\n",
        "    accuracy_pca = accuracy_score(y_test, y_pred_pca)\n",
        "    results_pca[name] = accuracy_pca\n",
        "\n",
        "best_model_pca = max(results_pca, key=results_pca.get)\n",
        "best_accuracy_pca = results_pca[best_model_pca]\n",
        "\n",
        "print(\"\\nModel Accuracies after PCA:\")\n",
        "for name, accuracy in results_pca.items():\n",
        "    print(f\"{name}: {accuracy}\")\n",
        "\n",
        "print(f\"\\nBest Model after PCA: {best_model_pca} with accuracy: {best_accuracy_pca}\")\n"
      ],
      "metadata": {
        "colab": {
          "base_uri": "https://localhost:8080/"
        },
        "id": "2YHM__cqMnuL",
        "outputId": "d024f7c2-fff0-4241-80bb-d6f5d833ce2b"
      },
      "execution_count": null,
      "outputs": [
        {
          "output_type": "stream",
          "name": "stdout",
          "text": [
            "\n",
            "Model Accuracies after PCA:\n",
            "SVM: 0.819672131147541\n",
            "Logistic Regression: 0.8524590163934426\n",
            "Random Forest: 0.8524590163934426\n",
            "\n",
            "Best Model after PCA: Logistic Regression with accuracy: 0.8524590163934426\n"
          ]
        }
      ]
    }
  ]
}