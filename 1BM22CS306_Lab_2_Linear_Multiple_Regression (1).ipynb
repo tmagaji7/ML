{
  "nbformat": 4,
  "nbformat_minor": 0,
  "metadata": {
    "colab": {
      "provenance": []
    },
    "kernelspec": {
      "name": "python3",
      "display_name": "Python 3"
    },
    "language_info": {
      "name": "python"
    }
  },
  "cells": [
    {
      "cell_type": "markdown",
      "source": [
        "Implimentation of Multiple_LR_HomePrice.ipynb"
      ],
      "metadata": {
        "id": "oNDGXm8kuGfz"
      }
    },
    {
      "cell_type": "code",
      "execution_count": null,
      "metadata": {
        "colab": {
          "base_uri": "https://localhost:8080/"
        },
        "id": "GaGeCs7As-VV",
        "outputId": "aec68d55-bfd8-493c-e464-7309a21cc34e"
      },
      "outputs": [
        {
          "output_type": "stream",
          "name": "stderr",
          "text": [
            "/usr/local/lib/python3.11/dist-packages/sklearn/utils/validation.py:2739: UserWarning: X does not have valid feature names, but LinearRegression was fitted with feature names\n",
            "  warnings.warn(\n"
          ]
        },
        {
          "output_type": "execute_result",
          "data": {
            "text/plain": [
              "498408.25157402386"
            ]
          },
          "metadata": {},
          "execution_count": 2
        }
      ],
      "source": [
        "import pandas as pd\n",
        "import numpy as np\n",
        "from sklearn import linear_model\n",
        "\n",
        "df = pd.read_csv('/content/homeprices_Multiple_LR.csv')\n",
        "df\n",
        "\n",
        "\"\"\"Data Preprocessing: Fill NA values with median value of a column\"\"\"\n",
        "\n",
        "df.bedrooms.median()\n",
        "\n",
        "df.bedrooms = df.bedrooms.fillna(df.bedrooms.median())\n",
        "df\n",
        "\n",
        "reg = linear_model.LinearRegression()\n",
        "reg.fit(df.drop('price',axis='columns'),df.price)\n",
        "\n",
        "reg.coef_\n",
        "\n",
        "reg.intercept_\n",
        "\n",
        "\"\"\"Find price of home with 3000 sqr ft area, 3 bedrooms, 40 year old\"\"\"\n",
        "\n",
        "reg.predict([[3000, 3, 40]])\n",
        "\n",
        "112.06244194*3000 + 23388.88007794*3 + -3231.71790863*40 + 221323.00186540384"
      ]
    },
    {
      "cell_type": "markdown",
      "source": [
        "Implimentation of housing_area_price.ipyng"
      ],
      "metadata": {
        "id": "wxoIeb-_uMl6"
      }
    },
    {
      "cell_type": "code",
      "source": [
        "import pandas as pd\n",
        "import numpy as np\n",
        "from sklearn import linear_model\n",
        "import matplotlib.pyplot as plt\n",
        "\n",
        "df = pd.read_csv('/content/housing_area_price.csv')\n",
        "df\n",
        "\n",
        "# Commented out IPython magic to ensure Python compatibility.\n",
        "# %matplotlib inline\n",
        "plt.xlabel('area')\n",
        "plt.ylabel('price')\n",
        "plt.scatter(df.area,df.price,color='red',marker='+')\n",
        "\n",
        "new_df = df.drop('price',axis='columns')\n",
        "new_df\n",
        "\n",
        "price = df.price\n",
        "price\n",
        "\n",
        "# Create linear regression object\n",
        "reg = linear_model.LinearRegression()\n",
        "reg.fit(new_df,price)\n",
        "\n",
        "\"\"\"(1) Predict price of a home with area = 3300 sqr ft\"\"\"\n",
        "\n",
        "reg.predict([[3300]])\n",
        "\n",
        "reg.coef_\n",
        "\n",
        "reg.intercept_\n",
        "\n",
        "\"\"\"Y = m * X + b (m is coefficient and b is intercept)\"\"\"\n",
        "\n",
        "3300*135.78767123 + 180616.43835616432\n",
        "\n",
        "\"\"\"(1) Predict price of a home with area = 5000 sqr ft\"\"\"\n",
        "\n",
        "reg.predict([[5000]])"
      ],
      "metadata": {
        "colab": {
          "base_uri": "https://localhost:8080/",
          "height": 536
        },
        "id": "qFWN1NGsuMvi",
        "outputId": "86800137-6f7c-439e-8d80-3676fddd6a83"
      },
      "execution_count": null,
      "outputs": [
        {
          "output_type": "stream",
          "name": "stderr",
          "text": [
            "/usr/local/lib/python3.11/dist-packages/sklearn/utils/validation.py:2739: UserWarning: X does not have valid feature names, but LinearRegression was fitted with feature names\n",
            "  warnings.warn(\n",
            "/usr/local/lib/python3.11/dist-packages/sklearn/utils/validation.py:2739: UserWarning: X does not have valid feature names, but LinearRegression was fitted with feature names\n",
            "  warnings.warn(\n"
          ]
        },
        {
          "output_type": "execute_result",
          "data": {
            "text/plain": [
              "array([859554.79452055])"
            ]
          },
          "metadata": {},
          "execution_count": 3
        },
        {
          "output_type": "display_data",
          "data": {
            "text/plain": [
              "<Figure size 640x480 with 1 Axes>"
            ],
            "image/png": "[encoded data removed]"
          },
          "metadata": {}
        }
      ]
    },
    {
      "cell_type": "markdown",
      "source": [
        "Predict canada's per capita income in year 2020. Use the data\n",
        "file canada_per_capita_income.csv file. If required, apply the\n",
        "necessary data processing steps. Using this build a\n",
        "regression model and predict the per capita income for\n",
        "canadian citizens in year 2020"
      ],
      "metadata": {
        "id": "--etE0FLvlEL"
      }
    },
    {
      "cell_type": "code",
      "source": [
        "import pandas as pd\n",
        "from sklearn.model_selection import train_test_split\n",
        "from sklearn.linear_model import LinearRegression\n",
        "import numpy as np\n",
        "\n",
        "\n",
        "file_path = '/content/canada_per_capita_income.csv'\n",
        "df = pd.read_csv(file_path)\n",
        "\n",
        "df.columns = ['year', 'per_capita_income']\n",
        "\n",
        "# Splitting data into features (X) and target (y)\n",
        "X = df[['year']]\n",
        "y = df['per_capita_income']\n",
        "\n",
        "\n",
        "model = LinearRegression()\n",
        "model.fit(X, y)\n",
        "\n",
        "# Predicting per capita income for the year 2020\n",
        "predicted_income_2020 = model.predict(np.array([[2020]]))[0]\n",
        "print(f\"Predicted per capita income for 2020: ${predicted_income_2020:.2f} USD\")\n"
      ],
      "metadata": {
        "colab": {
          "base_uri": "https://localhost:8080/"
        },
        "id": "ykOxWuCxvlMq",
        "outputId": "8a8eba23-54ed-49a6-a6c4-67c9eedc06a5"
      },
      "execution_count": null,
      "outputs": [
        {
          "output_type": "stream",
          "name": "stdout",
          "text": [
            "Predicted per capita income for 2020: $41288.69 USD\n"
          ]
        },
        {
          "output_type": "stream",
          "name": "stderr",
          "text": [
            "/usr/local/lib/python3.11/dist-packages/sklearn/utils/validation.py:2739: UserWarning: X does not have valid feature names, but LinearRegression was fitted with feature names\n",
            "  warnings.warn(\n"
          ]
        }
      ]
    },
    {
      "cell_type": "markdown",
      "source": [
        "Predict Salary of the employee. Use the data file salary.csv\n",
        "file. If required, apply the necessary data processing steps.\n",
        "Using this build a regression model and predict the salary of\n",
        "the employee with 12 years of experience."
      ],
      "metadata": {
        "id": "nPmYrfgyv8Zj"
      }
    },
    {
      "cell_type": "code",
      "source": [
        "import pandas as pd\n",
        "from sklearn.linear_model import LinearRegression\n",
        "import numpy as np\n",
        "\n",
        "\n",
        "salary_file_path = '/content/salary.csv'\n",
        "salary_df = pd.read_csv(salary_file_path)\n",
        "\n",
        "if salary_df.isnull().sum().sum() > 0:\n",
        "    salary_df = salary_df.dropna()\n",
        "\n",
        "X = salary_df[['YearsExperience']]\n",
        "y = salary_df['Salary']\n",
        "\n",
        "# Initializing the Linear Regression model\n",
        "salary_model = LinearRegression()\n",
        "salary_model.fit(X, y)\n",
        "predicted_salary = salary_model.predict(np.array([[12]]))[0]\n",
        "\n",
        "\n",
        "print(f\"Predicted salary for 12 years of experience: ${predicted_salary:.2f}\")\n"
      ],
      "metadata": {
        "colab": {
          "base_uri": "https://localhost:8080/"
        },
        "id": "klZ_bgR5v8iT",
        "outputId": "288ddd97-a3c5-4304-db49-ff18d804fb7e"
      },
      "execution_count": null,
      "outputs": [
        {
          "output_type": "stream",
          "name": "stdout",
          "text": [
            "Predicted salary for 12 years of experience: $139049.67\n"
          ]
        },
        {
          "output_type": "stream",
          "name": "stderr",
          "text": [
            "/usr/local/lib/python3.11/dist-packages/sklearn/utils/validation.py:2739: UserWarning: X does not have valid feature names, but LinearRegression was fitted with feature names\n",
            "  warnings.warn(\n"
          ]
        }
      ]
    },
    {
      "cell_type": "markdown",
      "source": [
        "Considering the data file hiring.csv. The file contains hiring statics for a firm such as experience of\n",
        "candidate, his written test score and personal interview score. Based on these 3 factors, HR will\n",
        "decide the salary. Given this data, you need to build a Multiple Linear Regression model for HR\n",
        "department that can help them decide salaries for future candidates. Using this predict salaries for\n",
        "following candidates,\n",
        "\n",
        "\n",
        "\n",
        "*   2 yr experience, 9 test score, 6 interview score\n",
        "*   12 yr experience, 10 test score, 10 interview score\n",
        "\n",
        "\n",
        "\n"
      ],
      "metadata": {
        "id": "SCP84fUZyeGS"
      }
    },
    {
      "cell_type": "code",
      "source": [
        "import pandas as pd\n",
        "import numpy as np\n",
        "from sklearn.linear_model import LinearRegression\n",
        "import matplotlib.pyplot as plt\n",
        "\n",
        "\n",
        "file_path = '/content/hiring.csv'\n",
        "data = pd.read_csv(file_path)\n",
        "\n",
        "\n",
        "experience_mapping = {\n",
        "    'zero': 0, 'one': 1, 'two': 2, 'three': 3, 'four': 4,\n",
        "    'five': 5, 'six': 6, 'seven': 7, 'eight': 8, 'nine': 9,\n",
        "    'ten': 10, 'eleven': 11, 'twelve': 12\n",
        "}\n",
        "\n",
        "data['experience'] = data['experience'].apply(lambda x: experience_mapping.get(str(x).lower(), 0))\n",
        "data['test_score(out of 10)'].fillna(data['test_score(out of 10)'].mean(), inplace=True)\n",
        "\n",
        "\n",
        "X = data[['experience', 'test_score(out of 10)', 'interview_score(out of 10)']]\n",
        "y = data['salary($)']\n",
        "\n",
        "\n",
        "model = LinearRegression()\n",
        "model.fit(X, y)\n",
        "\n",
        "\n",
        "test_candidates = pd.DataFrame([\n",
        "    [2, 9, 6],\n",
        "    [12, 10, 10]\n",
        "], columns=['experience', 'test_score(out of 10)', 'interview_score(out of 10)'])\n",
        "\n",
        "\n",
        "predicted_salaries = model.predict(test_candidates)\n",
        "print(\"Predicted Salaries:\")\n",
        "for i, salary in enumerate(predicted_salaries, 1):\n",
        "    print(f\"Candidate {i}: ${salary:.2f}\")\n",
        "\n",
        "# Visualization\n",
        "plt.figure(figsize=(10, 6))\n",
        "plt.scatter(X['experience'], y, color='blue', label='Training Data')\n",
        "plt.scatter(test_candidates['experience'], predicted_salaries, color='red', label='Predicted Salaries')\n",
        "plt.title('Experience vs Salary Prediction')\n",
        "plt.xlabel('Experience (Years)')\n",
        "plt.ylabel('Salary ($)')\n",
        "plt.legend()\n",
        "plt.show()\n"
      ],
      "metadata": {
        "colab": {
          "base_uri": "https://localhost:8080/",
          "height": 758
        },
        "id": "UVhLMo4cyeYQ",
        "outputId": "98ddea2a-86f9-42ef-a1b4-5847f01271fe"
      },
      "execution_count": null,
      "outputs": [
        {
          "output_type": "stream",
          "name": "stderr",
          "text": [
            "<ipython-input-7-14662822b531>:18: FutureWarning: A value is trying to be set on a copy of a DataFrame or Series through chained assignment using an inplace method.\n",
            "The behavior will change in pandas 3.0. This inplace method will never work because the intermediate object on which we are setting values always behaves as a copy.\n",
            "\n",
            "For example, when doing 'df[col].method(value, inplace=True)', try using 'df.method({col: value}, inplace=True)' or df[col] = df[col].method(value) instead, to perform the operation inplace on the original object.\n",
            "\n",
            "\n",
            "  data['test_score(out of 10)'].fillna(data['test_score(out of 10)'].mean(), inplace=True)\n"
          ]
        },
        {
          "output_type": "stream",
          "name": "stdout",
          "text": [
            "Predicted Salaries:\n",
            "Candidate 1: $53290.89\n",
            "Candidate 2: $92268.07\n"
          ]
        },
        {
          "output_type": "display_data",
          "data": {
            "text/plain": [
              "<Figure size 1000x600 with 1 Axes>"
            ],
            "image/png": "[encoded data removed]"
          },
          "metadata": {}
        }
      ]
    },
    {
      "cell_type": "markdown",
      "source": [
        "Considering the data file 1000_companies.csv. The file contains profit statics for a firm such as R&D\n",
        "Spend, Administration, Marketing Spend and State. Based on these four factors build a Multiple\n",
        "Linear Regression model to predict the profit. Using this predict profit for following,\n",
        "\n",
        "*  91694.48 R&D Spend, 515841.3 Administration, 11931.24 Marketing Spend, Florida State"
      ],
      "metadata": {
        "id": "SzN8Qoc91aup"
      }
    },
    {
      "cell_type": "code",
      "source": [
        "import pandas as pd\n",
        "import numpy as np\n",
        "from sklearn.model_selection import train_test_split\n",
        "from sklearn.compose import ColumnTransformer\n",
        "from sklearn.preprocessing import OneHotEncoder\n",
        "from sklearn.linear_model import LinearRegression\n",
        "\n",
        "file_path = '/content/1000_Companies.csv'\n",
        "data = pd.read_csv(file_path)\n",
        "\n",
        "X = data[['R&D Spend', 'Administration', 'Marketing Spend', 'State']]\n",
        "y = data['Profit']\n",
        "\n",
        "column_transformer = ColumnTransformer(transformers=[\n",
        "    ('encoder', OneHotEncoder(drop='first'), ['State'])], remainder='passthrough')\n",
        "\n",
        "X_encoded = column_transformer.fit_transform(X)\n",
        "\n",
        "encoded_columns = column_transformer.transformers_[0][1].get_feature_names_out(['State'])\n",
        "print(\"Encoded column names:\", encoded_columns)\n",
        "\n",
        "# Print the encoded data for the first few rows\n",
        "print(\"Encoded Data (First 5 Rows):\")\n",
        "print(X_encoded[:5])\n",
        "\n",
        "\n",
        "X_train, X_test, y_train, y_test = train_test_split(X_encoded, y, test_size=0.2, random_state=0)\n",
        "\n",
        "\n",
        "model = LinearRegression()\n",
        "model.fit(X_train, y_train)\n",
        "\n",
        "\n",
        "test_data = np.array([[0, 0, 91694.48, 515841.3, 11931.24]])\n",
        "\n",
        "# Predicting profit\n",
        "predicted_profit = model.predict(test_data)\n",
        "print(f\"Predicted Profit for Florida: ${predicted_profit[0]:.2f}\")\n"
      ],
      "metadata": {
        "colab": {
          "base_uri": "https://localhost:8080/"
        },
        "id": "Kn5G7lNt1a1o",
        "outputId": "591ccf5a-5737-4d56-fcfd-8607b848ec07"
      },
      "execution_count": null,
      "outputs": [
        {
          "output_type": "stream",
          "name": "stdout",
          "text": [
            "Encoded column names: ['State_Florida' 'State_New York']\n",
            "Encoded Data (First 5 Rows):\n",
            "[[0.0000000e+00 1.0000000e+00 1.6534920e+05 1.3689780e+05 4.7178410e+05]\n",
            " [0.0000000e+00 0.0000000e+00 1.6259770e+05 1.5137759e+05 4.4389853e+05]\n",
            " [1.0000000e+00 0.0000000e+00 1.5344151e+05 1.0114555e+05 4.0793454e+05]\n",
            " [0.0000000e+00 1.0000000e+00 1.4437241e+05 1.1867185e+05 3.8319962e+05]\n",
            " [1.0000000e+00 0.0000000e+00 1.4210734e+05 9.1391770e+04 3.6616842e+05]]\n",
            "Predicted Profit for Florida: $434037.12\n"
          ]
        }
      ]
    }
  ]
}